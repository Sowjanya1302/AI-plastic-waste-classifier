{
 "cells": [
  {
   "cell_type": "code",
   "execution_count": 1,
   "id": "c77efb71",
   "metadata": {},
   "outputs": [],
   "source": [
    "import pandas as pd"
   ]
  },
  {
   "cell_type": "code",
   "execution_count": 2,
   "id": "37a85f9d",
   "metadata": {},
   "outputs": [],
   "source": [
    "data=pd.read_csv(r\"C:\\Users\\sathy\\Downloads\\Plastic Waste Around the World.csv\")"
   ]
  },
  {
   "cell_type": "code",
   "execution_count": 3,
   "id": "dcd2da6a",
   "metadata": {},
   "outputs": [
    {
     "data": {
      "text/html": [
       "<div>\n",
       "<style scoped>\n",
       "    .dataframe tbody tr th:only-of-type {\n",
       "        vertical-align: middle;\n",
       "    }\n",
       "\n",
       "    .dataframe tbody tr th {\n",
       "        vertical-align: top;\n",
       "    }\n",
       "\n",
       "    .dataframe thead th {\n",
       "        text-align: right;\n",
       "    }\n",
       "</style>\n",
       "<table border=\"1\" class=\"dataframe\">\n",
       "  <thead>\n",
       "    <tr style=\"text-align: right;\">\n",
       "      <th></th>\n",
       "      <th>Country</th>\n",
       "      <th>Total_Plastic_Waste_MT</th>\n",
       "      <th>Main_Sources</th>\n",
       "      <th>Recycling_Rate</th>\n",
       "      <th>Per_Capita_Waste_KG</th>\n",
       "      <th>Coastal_Waste_Risk</th>\n",
       "    </tr>\n",
       "  </thead>\n",
       "  <tbody>\n",
       "    <tr>\n",
       "      <th>0</th>\n",
       "      <td>China</td>\n",
       "      <td>59.08</td>\n",
       "      <td>Packaging_Industrial</td>\n",
       "      <td>29.8</td>\n",
       "      <td>41.2</td>\n",
       "      <td>High</td>\n",
       "    </tr>\n",
       "    <tr>\n",
       "      <th>1</th>\n",
       "      <td>United States</td>\n",
       "      <td>42.02</td>\n",
       "      <td>Packaging_Consumer</td>\n",
       "      <td>32.1</td>\n",
       "      <td>127.5</td>\n",
       "      <td>Medium</td>\n",
       "    </tr>\n",
       "    <tr>\n",
       "      <th>2</th>\n",
       "      <td>India</td>\n",
       "      <td>26.33</td>\n",
       "      <td>Consumer_Goods</td>\n",
       "      <td>11.5</td>\n",
       "      <td>19.3</td>\n",
       "      <td>High</td>\n",
       "    </tr>\n",
       "    <tr>\n",
       "      <th>3</th>\n",
       "      <td>Japan</td>\n",
       "      <td>7.99</td>\n",
       "      <td>Packaging_Electronics</td>\n",
       "      <td>84.8</td>\n",
       "      <td>63.2</td>\n",
       "      <td>Medium</td>\n",
       "    </tr>\n",
       "    <tr>\n",
       "      <th>4</th>\n",
       "      <td>Germany</td>\n",
       "      <td>6.28</td>\n",
       "      <td>Automotive_Packaging</td>\n",
       "      <td>56.1</td>\n",
       "      <td>75.6</td>\n",
       "      <td>Low</td>\n",
       "    </tr>\n",
       "    <tr>\n",
       "      <th>...</th>\n",
       "      <td>...</td>\n",
       "      <td>...</td>\n",
       "      <td>...</td>\n",
       "      <td>...</td>\n",
       "      <td>...</td>\n",
       "      <td>...</td>\n",
       "    </tr>\n",
       "    <tr>\n",
       "      <th>160</th>\n",
       "      <td>Marshall Islands</td>\n",
       "      <td>0.01</td>\n",
       "      <td>Consumer_Packaging</td>\n",
       "      <td>1.8</td>\n",
       "      <td>168.5</td>\n",
       "      <td>High</td>\n",
       "    </tr>\n",
       "    <tr>\n",
       "      <th>161</th>\n",
       "      <td>Micronesia</td>\n",
       "      <td>0.01</td>\n",
       "      <td>Consumer_Packaging</td>\n",
       "      <td>1.5</td>\n",
       "      <td>86.3</td>\n",
       "      <td>High</td>\n",
       "    </tr>\n",
       "    <tr>\n",
       "      <th>162</th>\n",
       "      <td>Palau</td>\n",
       "      <td>0.01</td>\n",
       "      <td>Consumer_Packaging</td>\n",
       "      <td>12.3</td>\n",
       "      <td>437.2</td>\n",
       "      <td>High</td>\n",
       "    </tr>\n",
       "    <tr>\n",
       "      <th>163</th>\n",
       "      <td>Tuvalu</td>\n",
       "      <td>0.01</td>\n",
       "      <td>Consumer_Packaging</td>\n",
       "      <td>1.2</td>\n",
       "      <td>833.3</td>\n",
       "      <td>High</td>\n",
       "    </tr>\n",
       "    <tr>\n",
       "      <th>164</th>\n",
       "      <td>Nauru</td>\n",
       "      <td>0.01</td>\n",
       "      <td>Consumer_Packaging</td>\n",
       "      <td>0.9</td>\n",
       "      <td>927.8</td>\n",
       "      <td>High</td>\n",
       "    </tr>\n",
       "  </tbody>\n",
       "</table>\n",
       "<p>165 rows × 6 columns</p>\n",
       "</div>"
      ],
      "text/plain": [
       "              Country  Total_Plastic_Waste_MT           Main_Sources  \\\n",
       "0               China                   59.08   Packaging_Industrial   \n",
       "1       United States                   42.02     Packaging_Consumer   \n",
       "2               India                   26.33         Consumer_Goods   \n",
       "3               Japan                    7.99  Packaging_Electronics   \n",
       "4             Germany                    6.28   Automotive_Packaging   \n",
       "..                ...                     ...                    ...   \n",
       "160  Marshall Islands                    0.01     Consumer_Packaging   \n",
       "161        Micronesia                    0.01     Consumer_Packaging   \n",
       "162             Palau                    0.01     Consumer_Packaging   \n",
       "163            Tuvalu                    0.01     Consumer_Packaging   \n",
       "164             Nauru                    0.01     Consumer_Packaging   \n",
       "\n",
       "     Recycling_Rate  Per_Capita_Waste_KG Coastal_Waste_Risk  \n",
       "0              29.8                 41.2               High  \n",
       "1              32.1                127.5             Medium  \n",
       "2              11.5                 19.3               High  \n",
       "3              84.8                 63.2             Medium  \n",
       "4              56.1                 75.6                Low  \n",
       "..              ...                  ...                ...  \n",
       "160             1.8                168.5               High  \n",
       "161             1.5                 86.3               High  \n",
       "162            12.3                437.2               High  \n",
       "163             1.2                833.3               High  \n",
       "164             0.9                927.8               High  \n",
       "\n",
       "[165 rows x 6 columns]"
      ]
     },
     "execution_count": 3,
     "metadata": {},
     "output_type": "execute_result"
    }
   ],
   "source": [
    "data"
   ]
  },
  {
   "cell_type": "code",
   "execution_count": 4,
   "id": "a09c7bdf",
   "metadata": {},
   "outputs": [
    {
     "name": "stdout",
     "output_type": "stream",
     "text": [
      "         Country  Total_Plastic_Waste_MT           Main_Sources  \\\n",
      "0          China                   59.08   Packaging_Industrial   \n",
      "1  United States                   42.02     Packaging_Consumer   \n",
      "2          India                   26.33         Consumer_Goods   \n",
      "3          Japan                    7.99  Packaging_Electronics   \n",
      "4        Germany                    6.28   Automotive_Packaging   \n",
      "\n",
      "   Recycling_Rate  Per_Capita_Waste_KG Coastal_Waste_Risk  \n",
      "0            29.8                 41.2               High  \n",
      "1            32.1                127.5             Medium  \n",
      "2            11.5                 19.3               High  \n",
      "3            84.8                 63.2             Medium  \n",
      "4            56.1                 75.6                Low  \n"
     ]
    }
   ],
   "source": [
    "print(data.head(5))"
   ]
  },
  {
   "cell_type": "code",
   "execution_count": 5,
   "id": "54171f2a",
   "metadata": {},
   "outputs": [
    {
     "name": "stdout",
     "output_type": "stream",
     "text": [
      "              Country  Total_Plastic_Waste_MT        Main_Sources  \\\n",
      "160  Marshall Islands                    0.01  Consumer_Packaging   \n",
      "161        Micronesia                    0.01  Consumer_Packaging   \n",
      "162             Palau                    0.01  Consumer_Packaging   \n",
      "163            Tuvalu                    0.01  Consumer_Packaging   \n",
      "164             Nauru                    0.01  Consumer_Packaging   \n",
      "\n",
      "     Recycling_Rate  Per_Capita_Waste_KG Coastal_Waste_Risk  \n",
      "160             1.8                168.5               High  \n",
      "161             1.5                 86.3               High  \n",
      "162            12.3                437.2               High  \n",
      "163             1.2                833.3               High  \n",
      "164             0.9                927.8               High  \n"
     ]
    }
   ],
   "source": [
    "print(data.tail(5))"
   ]
  },
  {
   "cell_type": "code",
   "execution_count": 6,
   "id": "7b1779b5",
   "metadata": {},
   "outputs": [
    {
     "name": "stdout",
     "output_type": "stream",
     "text": [
      "Country                   0\n",
      "Total_Plastic_Waste_MT    0\n",
      "Main_Sources              0\n",
      "Recycling_Rate            0\n",
      "Per_Capita_Waste_KG       0\n",
      "Coastal_Waste_Risk        0\n",
      "dtype: int64\n"
     ]
    }
   ],
   "source": [
    "print(data.isnull().sum())"
   ]
  },
  {
   "cell_type": "code",
   "execution_count": 7,
   "id": "f760f6f9",
   "metadata": {},
   "outputs": [],
   "source": [
    "data=data.dropna()"
   ]
  },
  {
   "cell_type": "code",
   "execution_count": 9,
   "id": "8efbeda3",
   "metadata": {},
   "outputs": [],
   "source": [
    "data[\"Total_Plastic_Waste_MT\"].fillna(data[\"Total_Plastic_Waste_MT\"].mean(), inplace=True)\n"
   ]
  },
  {
   "cell_type": "code",
   "execution_count": 10,
   "id": "77390865",
   "metadata": {},
   "outputs": [],
   "source": [
    "\n",
    "data[\"Recycling_Rate\"].fillna(data[\"Recycling_Rate\"].mean(), inplace=True)\n"
   ]
  },
  {
   "cell_type": "code",
   "execution_count": 11,
   "id": "ce399799",
   "metadata": {},
   "outputs": [],
   "source": [
    "data[\"Per_Capita_Waste_KG\"].fillna(data[\"Per_Capita_Waste_KG\"].mean(), inplace=True)\n"
   ]
  },
  {
   "cell_type": "code",
   "execution_count": 12,
   "id": "a3d150c6",
   "metadata": {},
   "outputs": [],
   "source": [
    "data[\"Main_Sources\"].fillna(data[\"Main_Sources\"].mode()[0], inplace=True)\n"
   ]
  },
  {
   "cell_type": "code",
   "execution_count": 13,
   "id": "c708de2b",
   "metadata": {},
   "outputs": [],
   "source": [
    "data[\"Coastal_Waste_Risk\"].fillna(data[\"Coastal_Waste_Risk\"].mode()[0], inplace=True)"
   ]
  },
  {
   "cell_type": "code",
   "execution_count": 14,
   "id": "f9e4d85a",
   "metadata": {},
   "outputs": [
    {
     "name": "stdout",
     "output_type": "stream",
     "text": [
      "Country                   0\n",
      "Total_Plastic_Waste_MT    0\n",
      "Main_Sources              0\n",
      "Recycling_Rate            0\n",
      "Per_Capita_Waste_KG       0\n",
      "Coastal_Waste_Risk        0\n",
      "dtype: int64\n"
     ]
    }
   ],
   "source": [
    "print(data.isnull().sum())"
   ]
  },
  {
   "cell_type": "code",
   "execution_count": 17,
   "id": "b252e4e0",
   "metadata": {},
   "outputs": [
    {
     "name": "stdout",
     "output_type": "stream",
     "text": [
      "🔍 Total duplicate rows before removal: 0\n",
      "✅ Total duplicate rows after removal: 0\n"
     ]
    }
   ],
   "source": [
    "# Check duplicates\n",
    "print(\"🔍 Total duplicate rows before removal:\", data.duplicated().sum())\n",
    "\n",
    "# Remove duplicate rows\n",
    "data = data.drop_duplicates()\n",
    "\n",
    "print(\"✅ Total duplicate rows after removal:\", data.duplicated().sum())"
   ]
  },
  {
   "cell_type": "code",
   "execution_count": 18,
   "id": "850f13a3",
   "metadata": {},
   "outputs": [],
   "source": [
    "data = data.drop_duplicates().reset_index(drop=True)"
   ]
  },
  {
   "cell_type": "code",
   "execution_count": 19,
   "id": "643c09c8",
   "metadata": {},
   "outputs": [
    {
     "name": "stdout",
     "output_type": "stream",
     "text": [
      "✅ Data types fixed:\n",
      "Country                     object\n",
      "Total_Plastic_Waste_MT     float64\n",
      "Main_Sources                object\n",
      "Recycling_Rate             float64\n",
      "Per_Capita_Waste_KG        float64\n",
      "Coastal_Waste_Risk        category\n",
      "dtype: object\n"
     ]
    }
   ],
   "source": [
    "# Ensure correct data types\n",
    "data[\"Country\"] = data[\"Country\"].astype(str)\n",
    "data[\"Main_Sources\"] = data[\"Main_Sources\"].astype(str)\n",
    "data[\"Coastal_Waste_Risk\"] = data[\"Coastal_Waste_Risk\"].astype(\"category\")\n",
    "\n",
    "# Convert numeric columns safely\n",
    "numeric_cols = [\"Total_Plastic_Waste_MT\", \"Recycling_Rate\", \"Per_Capita_Waste_KG\"]\n",
    "for col in numeric_cols:\n",
    "    data[col] = pd.to_numeric(data[col], errors=\"coerce\")  # convert, set invalid values to NaN\n",
    "    data[col].fillna(data[col].mean(), inplace=True)       # fill NaN with mean\n",
    "\n",
    "# Verify dtypes\n",
    "print(\"✅ Data types fixed:\")\n",
    "print(data.dtypes)"
   ]
  },
  {
   "cell_type": "code",
   "execution_count": 20,
   "id": "9ee5b3a1",
   "metadata": {},
   "outputs": [
    {
     "name": "stdout",
     "output_type": "stream",
     "text": [
      "✅ Outliers handled using IQR method\n"
     ]
    }
   ],
   "source": [
    "import numpy as np\n",
    "\n",
    "def handle_outliers(df, col):\n",
    "    Q1 = df[col].quantile(0.25)\n",
    "    Q3 = df[col].quantile(0.75)\n",
    "    IQR = Q3 - Q1\n",
    "    lower_limit = Q1 - 1.5 * IQR\n",
    "    upper_limit = Q3 + 1.5 * IQR\n",
    "\n",
    "    # Clip outliers (replace with nearest limit)\n",
    "    df[col] = np.where(df[col] < lower_limit, lower_limit,\n",
    "                       np.where(df[col] > upper_limit, upper_limit, df[col]))\n",
    "    return df\n",
    "\n",
    "# Apply to numeric columns\n",
    "numeric_cols = [\"Total_Plastic_Waste_MT\", \"Recycling_Rate\", \"Per_Capita_Waste_KG\"]\n",
    "for col in numeric_cols:\n",
    "    data = handle_outliers(data, col)\n",
    "\n",
    "print(\"✅ Outliers handled using IQR method\")"
   ]
  },
  {
   "cell_type": "code",
   "execution_count": 22,
   "id": "a9f11dea",
   "metadata": {},
   "outputs": [
    {
     "name": "stdout",
     "output_type": "stream",
     "text": [
      "✅ Normalized data (0 → 1 range):\n",
      "   Total_Plastic_Waste_MT  Recycling_Rate  Per_Capita_Waste_KG\n",
      "0                     1.0        0.759591             0.133012\n",
      "1                     1.0        0.818414             0.430393\n",
      "2                     1.0        0.291560             0.057547\n",
      "3                     1.0        1.000000             0.208822\n",
      "4                     1.0        1.000000             0.251551\n"
     ]
    }
   ],
   "source": [
    "from sklearn.preprocessing import MinMaxScaler\n",
    "\n",
    "scaler = MinMaxScaler()\n",
    "\n",
    "# Select numeric columns\n",
    "numeric_cols = [\"Total_Plastic_Waste_MT\", \"Recycling_Rate\", \"Per_Capita_Waste_KG\"]\n",
    "\n",
    "# Normalize\n",
    "data[numeric_cols] = scaler.fit_transform(data[numeric_cols])\n",
    "\n",
    "print(\"✅ Normalized data (0 → 1 range):\")\n",
    "print(data[numeric_cols].head())"
   ]
  },
  {
   "cell_type": "code",
   "execution_count": 23,
   "id": "f253a69f",
   "metadata": {},
   "outputs": [
    {
     "name": "stdout",
     "output_type": "stream",
     "text": [
      "✅ Standardized data (mean=0, std=1):\n",
      "   Total_Plastic_Waste_MT  Recycling_Rate  Per_Capita_Waste_KG\n",
      "0                2.426366        1.340158            -0.499044\n",
      "1                2.426366        1.511383             0.472217\n",
      "2                2.426366       -0.022198            -0.745516\n",
      "3                2.426366        2.039947            -0.251445\n",
      "4                2.426366        2.039947            -0.111890\n"
     ]
    }
   ],
   "source": [
    "from sklearn.preprocessing import StandardScaler\n",
    "\n",
    "scaler = StandardScaler()\n",
    "\n",
    "# Select numeric columns\n",
    "numeric_cols = [\"Total_Plastic_Waste_MT\", \"Recycling_Rate\", \"Per_Capita_Waste_KG\"]\n",
    "\n",
    "# Standardize\n",
    "data[numeric_cols] = scaler.fit_transform(data[numeric_cols])\n",
    "\n",
    "print(\"✅ Standardized data (mean=0, std=1):\")\n",
    "print(data[numeric_cols].head())"
   ]
  },
  {
   "cell_type": "code",
   "execution_count": 24,
   "id": "b7c56f3a",
   "metadata": {},
   "outputs": [
    {
     "name": "stdout",
     "output_type": "stream",
     "text": [
      "✅ Renamed columns:\n",
      "Index(['country', 'total_plastic_waste_mt', 'main_sources', 'recycling_rate',\n",
      "       'per_capita_waste_kg', 'coastal_waste_risk'],\n",
      "      dtype='object')\n"
     ]
    }
   ],
   "source": [
    "# Rename columns to snake_case\n",
    "data.rename(columns={\n",
    "    \"Country\": \"country\",\n",
    "    \"Total_Plastic_Waste_MT\": \"total_plastic_waste_mt\",\n",
    "    \"Main_Sources\": \"main_sources\",\n",
    "    \"Recycling_Rate\": \"recycling_rate\",\n",
    "    \"Per_Capita_Waste_KG\": \"per_capita_waste_kg\",\n",
    "    \"Coastal_Waste_Risk\": \"coastal_waste_risk\"\n",
    "}, inplace=True)\n",
    "\n",
    "print(\"✅ Renamed columns:\")\n",
    "print(data.columns)"
   ]
  },
  {
   "cell_type": "code",
   "execution_count": 25,
   "id": "69793a72",
   "metadata": {},
   "outputs": [
    {
     "name": "stdout",
     "output_type": "stream",
     "text": [
      "✅ Cleaned string columns\n",
      "         country  total_plastic_waste_mt           main_sources  \\\n",
      "0          china                2.426366   packaging_industrial   \n",
      "1  united_states                2.426366     packaging_consumer   \n",
      "2          india                2.426366         consumer_goods   \n",
      "3          japan                2.426366  packaging_electronics   \n",
      "4        germany                2.426366   automotive_packaging   \n",
      "\n",
      "   recycling_rate  per_capita_waste_kg coastal_waste_risk  \n",
      "0        1.340158            -0.499044               high  \n",
      "1        1.511383             0.472217             medium  \n",
      "2       -0.022198            -0.745516               high  \n",
      "3        2.039947            -0.251445             medium  \n",
      "4        2.039947            -0.111890                low  \n"
     ]
    }
   ],
   "source": [
    "# Strip spaces, lowercase, replace multiple spaces\n",
    "str_cols = [\"country\", \"main_sources\", \"coastal_waste_risk\"]\n",
    "\n",
    "for col in str_cols:\n",
    "    data[col] = data[col].astype(str)                # ensure string type\n",
    "    data[col] = data[col].str.strip()                # remove leading/trailing spaces\n",
    "    data[col] = data[col].str.lower()                # lowercase\n",
    "    data[col] = data[col].str.replace(r\"\\s+\", \"_\", regex=True)  # replace spaces with underscores\n",
    "\n",
    "print(\"✅ Cleaned string columns\")\n",
    "print(data.head())"
   ]
  },
  {
   "cell_type": "code",
   "execution_count": 26,
   "id": "1930f05f",
   "metadata": {},
   "outputs": [
    {
     "name": "stdout",
     "output_type": "stream",
     "text": [
      "✅ One-hot encoding applied:\n",
      "         country  total_plastic_waste_mt  recycling_rate  per_capita_waste_kg  \\\n",
      "0          china                2.426366        1.340158            -0.499044   \n",
      "1  united_states                2.426366        1.511383             0.472217   \n",
      "2          india                2.426366       -0.022198            -0.745516   \n",
      "3          japan                2.426366        2.039947            -0.251445   \n",
      "4        germany                2.426366        2.039947            -0.111890   \n",
      "\n",
      "   main_sources_consumer_goods  main_sources_consumer_packaging  \\\n",
      "0                            0                                0   \n",
      "1                            0                                0   \n",
      "2                            1                                0   \n",
      "3                            0                                0   \n",
      "4                            0                                0   \n",
      "\n",
      "   main_sources_electronics_packaging  main_sources_food_packaging  \\\n",
      "0                                   0                            0   \n",
      "1                                   0                            0   \n",
      "2                                   0                            0   \n",
      "3                                   0                            0   \n",
      "4                                   0                            0   \n",
      "\n",
      "   main_sources_industrial_consumer  main_sources_industrial_packaging  \\\n",
      "0                                 0                                  0   \n",
      "1                                 0                                  0   \n",
      "2                                 0                                  0   \n",
      "3                                 0                                  0   \n",
      "4                                 0                                  0   \n",
      "\n",
      "   main_sources_packaging_consumer  main_sources_packaging_electronics  \\\n",
      "0                                0                                   0   \n",
      "1                                1                                   0   \n",
      "2                                0                                   0   \n",
      "3                                0                                   1   \n",
      "4                                0                                   0   \n",
      "\n",
      "   main_sources_packaging_industrial  coastal_waste_risk_low  \\\n",
      "0                                  1                       0   \n",
      "1                                  0                       0   \n",
      "2                                  0                       0   \n",
      "3                                  0                       0   \n",
      "4                                  0                       1   \n",
      "\n",
      "   coastal_waste_risk_medium  coastal_waste_risk_very_high  \n",
      "0                          0                             0  \n",
      "1                          1                             0  \n",
      "2                          0                             0  \n",
      "3                          1                             0  \n",
      "4                          0                             0  \n"
     ]
    }
   ],
   "source": [
    "import pandas as pd\n",
    "\n",
    "# One-hot encode selected categorical columns\n",
    "categorical_cols = [\"main_sources\", \"coastal_waste_risk\"]\n",
    "\n",
    "data = pd.get_dummies(data, columns=categorical_cols, drop_first=True)\n",
    "\n",
    "print(\"✅ One-hot encoding applied:\")\n",
    "print(data.head())"
   ]
  },
  {
   "cell_type": "code",
   "execution_count": null,
   "id": "319563b0",
   "metadata": {},
   "outputs": [],
   "source": []
  }
 ],
 "metadata": {
  "kernelspec": {
   "display_name": "Python 3 (ipykernel)",
   "language": "python",
   "name": "python3"
  },
  "language_info": {
   "codemirror_mode": {
    "name": "ipython",
    "version": 3
   },
   "file_extension": ".py",
   "mimetype": "text/x-python",
   "name": "python",
   "nbconvert_exporter": "python",
   "pygments_lexer": "ipython3",
   "version": "3.7.0"
  }
 },
 "nbformat": 4,
 "nbformat_minor": 5
}
